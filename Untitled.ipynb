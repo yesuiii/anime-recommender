{
 "cells": [
  {
   "cell_type": "code",
   "execution_count": 4,
   "id": "601dc4de-bcda-4add-afe1-6574593138de",
   "metadata": {},
   "outputs": [
    {
     "name": "stdout",
     "output_type": "stream",
     "text": [
      "Collecting gdown\n",
      "  Downloading gdown-5.2.0-py3-none-any.whl.metadata (5.8 kB)\n",
      "Requirement already satisfied: beautifulsoup4 in /Users/yesuienkhsaikhan/Library/jupyterlab-desktop/jlab_server/lib/python3.12/site-packages (from gdown) (4.12.3)\n",
      "Requirement already satisfied: filelock in /Users/yesuienkhsaikhan/Library/jupyterlab-desktop/jlab_server/lib/python3.12/site-packages (from gdown) (3.16.1)\n",
      "Requirement already satisfied: requests[socks] in /Users/yesuienkhsaikhan/Library/jupyterlab-desktop/jlab_server/lib/python3.12/site-packages (from gdown) (2.32.3)\n",
      "Requirement already satisfied: tqdm in /Users/yesuienkhsaikhan/Library/jupyterlab-desktop/jlab_server/lib/python3.12/site-packages (from gdown) (4.66.5)\n",
      "Requirement already satisfied: soupsieve>1.2 in /Users/yesuienkhsaikhan/Library/jupyterlab-desktop/jlab_server/lib/python3.12/site-packages (from beautifulsoup4->gdown) (2.5)\n",
      "Requirement already satisfied: charset-normalizer<4,>=2 in /Users/yesuienkhsaikhan/Library/jupyterlab-desktop/jlab_server/lib/python3.12/site-packages (from requests[socks]->gdown) (3.3.2)\n",
      "Requirement already satisfied: idna<4,>=2.5 in /Users/yesuienkhsaikhan/Library/jupyterlab-desktop/jlab_server/lib/python3.12/site-packages (from requests[socks]->gdown) (3.8)\n",
      "Requirement already satisfied: urllib3<3,>=1.21.1 in /Users/yesuienkhsaikhan/Library/jupyterlab-desktop/jlab_server/lib/python3.12/site-packages (from requests[socks]->gdown) (2.2.2)\n",
      "Requirement already satisfied: certifi>=2017.4.17 in /Users/yesuienkhsaikhan/Library/jupyterlab-desktop/jlab_server/lib/python3.12/site-packages (from requests[socks]->gdown) (2024.7.4)\n",
      "Requirement already satisfied: PySocks!=1.5.7,>=1.5.6 in /Users/yesuienkhsaikhan/Library/jupyterlab-desktop/jlab_server/lib/python3.12/site-packages (from requests[socks]->gdown) (1.7.1)\n",
      "Downloading gdown-5.2.0-py3-none-any.whl (18 kB)\n",
      "Installing collected packages: gdown\n",
      "Successfully installed gdown-5.2.0\n",
      "Note: you may need to restart the kernel to use updated packages.\n"
     ]
    }
   ],
   "source": [
    "pip install gdown\n"
   ]
  },
  {
   "cell_type": "code",
   "execution_count": null,
   "id": "e5fed1e4-f074-43d8-801e-d4892cf702e8",
   "metadata": {},
   "outputs": [],
   "source": [
    "import gdown\n",
    "import os\n",
    "\n",
    "def download_file(url, output):\n",
    "    if not os.path.exists(output):  # Only download if file doesn't exist\n",
    "        print(f\"Downloading {output}...\")\n",
    "        gdown.download(url, output, quiet=False)\n",
    "    else:\n",
    "        print(f\"{output} already exists. Skipping download.\")\n",
    "\n",
    "model_file_id = \"1-CxYL_ePmUVw9qCkhDZVIdL1pwE-St82\"  # Replace with your actual file ID\n",
    "csv_file_id = \"1-RiQJ2JrzxANZ1uBqiNi7WFdcjshdSZw\"  # Replace with your actual file ID\n",
    "\n",
    "# File names\n",
    "model_file = \"anime_recommender_model.pkl\"\n",
    "csv_file = \"users-score-2023.csv\"\n",
    "\n",
    "# Download files if not present\n",
    "download_file(model_url, model_file)\n",
    "download_file(csv_url, csv_file)"
   ]
  },
  {
   "cell_type": "code",
   "execution_count": null,
   "id": "de314739-92b0-40aa-9f9f-0441505bcf26",
   "metadata": {},
   "outputs": [],
   "source": [
    "https://drive.google.com/file/d/1-CxYL_ePmUVw9qCkhDZVIdL1pwE-St82/view?usp=share_link"
   ]
  },
  {
   "cell_type": "code",
   "execution_count": null,
   "id": "d7cac536-a742-44e7-abdb-cbccb6b9aea8",
   "metadata": {},
   "outputs": [],
   "source": [
    "https://drive.google.com/file/d/1-RiQJ2JrzxANZ1uBqiNi7WFdcjshdSZw/view?usp=share_link"
   ]
  },
  {
   "cell_type": "code",
   "execution_count": null,
   "id": "6e4bf9a0-a0f8-41a1-8007-7a49fddbfa18",
   "metadata": {},
   "outputs": [],
   "source": []
  },
  {
   "cell_type": "code",
   "execution_count": null,
   "id": "e086e87b-81b5-4abd-882e-d7a7935e9a89",
   "metadata": {},
   "outputs": [],
   "source": []
  }
 ],
 "metadata": {
  "kernelspec": {
   "display_name": "Python 3 (ipykernel)",
   "language": "python",
   "name": "python3"
  },
  "language_info": {
   "codemirror_mode": {
    "name": "ipython",
    "version": 3
   },
   "file_extension": ".py",
   "mimetype": "text/x-python",
   "name": "python",
   "nbconvert_exporter": "python",
   "pygments_lexer": "ipython3",
   "version": "3.12.5"
  }
 },
 "nbformat": 4,
 "nbformat_minor": 5
}
